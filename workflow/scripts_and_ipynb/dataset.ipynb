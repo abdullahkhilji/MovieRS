{
 "cells": [
  {
   "cell_type": "code",
   "execution_count": 1,
   "metadata": {},
   "outputs": [],
   "source": [
    "import pandas as pd\n",
    "import numpy as np"
   ]
  },
  {
   "cell_type": "code",
   "execution_count": 2,
   "metadata": {},
   "outputs": [
    {
     "name": "stdout",
     "output_type": "stream",
     "text": [
      "README.txt  links.csv   movies.csv  ratings.csv tags.csv\r\n"
     ]
    }
   ],
   "source": [
    "!ls small/ml-latest-small"
   ]
  },
  {
   "cell_type": "code",
   "execution_count": 3,
   "metadata": {},
   "outputs": [],
   "source": [
    "links = pd.read_csv(\"small/ml-latest-small/links.csv\")\n",
    "movies = pd.read_csv(\"small/ml-latest-small/movies.csv\")\n"
   ]
  },
  {
   "cell_type": "code",
   "execution_count": 4,
   "metadata": {
    "scrolled": true
   },
   "outputs": [],
   "source": [
    "links.drop(links.columns[[2]], axis=1, inplace=True)"
   ]
  },
  {
   "cell_type": "code",
   "execution_count": 5,
   "metadata": {},
   "outputs": [
    {
     "data": {
      "text/html": [
       "<div>\n",
       "<style scoped>\n",
       "    .dataframe tbody tr th:only-of-type {\n",
       "        vertical-align: middle;\n",
       "    }\n",
       "\n",
       "    .dataframe tbody tr th {\n",
       "        vertical-align: top;\n",
       "    }\n",
       "\n",
       "    .dataframe thead th {\n",
       "        text-align: right;\n",
       "    }\n",
       "</style>\n",
       "<table border=\"1\" class=\"dataframe\">\n",
       "  <thead>\n",
       "    <tr style=\"text-align: right;\">\n",
       "      <th></th>\n",
       "      <th>movieId</th>\n",
       "      <th>imdbId</th>\n",
       "    </tr>\n",
       "  </thead>\n",
       "  <tbody>\n",
       "    <tr>\n",
       "      <th>0</th>\n",
       "      <td>1</td>\n",
       "      <td>114709</td>\n",
       "    </tr>\n",
       "    <tr>\n",
       "      <th>1</th>\n",
       "      <td>2</td>\n",
       "      <td>113497</td>\n",
       "    </tr>\n",
       "  </tbody>\n",
       "</table>\n",
       "</div>"
      ],
      "text/plain": [
       "   movieId  imdbId\n",
       "0        1  114709\n",
       "1        2  113497"
      ]
     },
     "execution_count": 5,
     "metadata": {},
     "output_type": "execute_result"
    }
   ],
   "source": [
    "links.head(2)"
   ]
  },
  {
   "cell_type": "code",
   "execution_count": 6,
   "metadata": {},
   "outputs": [
    {
     "data": {
      "text/html": [
       "<div>\n",
       "<style scoped>\n",
       "    .dataframe tbody tr th:only-of-type {\n",
       "        vertical-align: middle;\n",
       "    }\n",
       "\n",
       "    .dataframe tbody tr th {\n",
       "        vertical-align: top;\n",
       "    }\n",
       "\n",
       "    .dataframe thead th {\n",
       "        text-align: right;\n",
       "    }\n",
       "</style>\n",
       "<table border=\"1\" class=\"dataframe\">\n",
       "  <thead>\n",
       "    <tr style=\"text-align: right;\">\n",
       "      <th></th>\n",
       "      <th>movieId</th>\n",
       "      <th>title</th>\n",
       "      <th>genres</th>\n",
       "    </tr>\n",
       "  </thead>\n",
       "  <tbody>\n",
       "    <tr>\n",
       "      <th>0</th>\n",
       "      <td>1</td>\n",
       "      <td>Toy Story (1995)</td>\n",
       "      <td>Adventure|Animation|Children|Comedy|Fantasy</td>\n",
       "    </tr>\n",
       "    <tr>\n",
       "      <th>1</th>\n",
       "      <td>2</td>\n",
       "      <td>Jumanji (1995)</td>\n",
       "      <td>Adventure|Children|Fantasy</td>\n",
       "    </tr>\n",
       "  </tbody>\n",
       "</table>\n",
       "</div>"
      ],
      "text/plain": [
       "   movieId             title                                       genres\n",
       "0        1  Toy Story (1995)  Adventure|Animation|Children|Comedy|Fantasy\n",
       "1        2    Jumanji (1995)                   Adventure|Children|Fantasy"
      ]
     },
     "execution_count": 6,
     "metadata": {},
     "output_type": "execute_result"
    }
   ],
   "source": [
    "movies.head(2)"
   ]
  },
  {
   "cell_type": "code",
   "execution_count": 7,
   "metadata": {},
   "outputs": [],
   "source": [
    "data = pd.merge(links, movies)"
   ]
  },
  {
   "cell_type": "code",
   "execution_count": 8,
   "metadata": {},
   "outputs": [
    {
     "data": {
      "text/html": [
       "<div>\n",
       "<style scoped>\n",
       "    .dataframe tbody tr th:only-of-type {\n",
       "        vertical-align: middle;\n",
       "    }\n",
       "\n",
       "    .dataframe tbody tr th {\n",
       "        vertical-align: top;\n",
       "    }\n",
       "\n",
       "    .dataframe thead th {\n",
       "        text-align: right;\n",
       "    }\n",
       "</style>\n",
       "<table border=\"1\" class=\"dataframe\">\n",
       "  <thead>\n",
       "    <tr style=\"text-align: right;\">\n",
       "      <th></th>\n",
       "      <th>movieId</th>\n",
       "      <th>imdbId</th>\n",
       "      <th>title</th>\n",
       "      <th>genres</th>\n",
       "    </tr>\n",
       "  </thead>\n",
       "  <tbody>\n",
       "    <tr>\n",
       "      <th>0</th>\n",
       "      <td>1</td>\n",
       "      <td>114709</td>\n",
       "      <td>Toy Story (1995)</td>\n",
       "      <td>Adventure|Animation|Children|Comedy|Fantasy</td>\n",
       "    </tr>\n",
       "    <tr>\n",
       "      <th>1</th>\n",
       "      <td>2</td>\n",
       "      <td>113497</td>\n",
       "      <td>Jumanji (1995)</td>\n",
       "      <td>Adventure|Children|Fantasy</td>\n",
       "    </tr>\n",
       "  </tbody>\n",
       "</table>\n",
       "</div>"
      ],
      "text/plain": [
       "   movieId  imdbId             title  \\\n",
       "0        1  114709  Toy Story (1995)   \n",
       "1        2  113497    Jumanji (1995)   \n",
       "\n",
       "                                        genres  \n",
       "0  Adventure|Animation|Children|Comedy|Fantasy  \n",
       "1                   Adventure|Children|Fantasy  "
      ]
     },
     "execution_count": 8,
     "metadata": {},
     "output_type": "execute_result"
    }
   ],
   "source": [
    "data.head(2)"
   ]
  },
  {
   "cell_type": "code",
   "execution_count": 9,
   "metadata": {},
   "outputs": [],
   "source": [
    "data_new_column = []\n",
    "for i in range(len(data)):\n",
    "    genres_split = data.iloc[i][\"genres\"].split('|')[0]\n",
    "    data_new_column.append(genres_split)   "
   ]
  },
  {
   "cell_type": "code",
   "execution_count": 10,
   "metadata": {},
   "outputs": [],
   "source": [
    "genres_split = data.iloc[0][\"genres\"].split('|')[0]"
   ]
  },
  {
   "cell_type": "code",
   "execution_count": 11,
   "metadata": {},
   "outputs": [
    {
     "data": {
      "text/plain": [
       "'Adventure'"
      ]
     },
     "execution_count": 11,
     "metadata": {},
     "output_type": "execute_result"
    }
   ],
   "source": [
    "genres_split"
   ]
  },
  {
   "cell_type": "code",
   "execution_count": 12,
   "metadata": {},
   "outputs": [
    {
     "name": "stdout",
     "output_type": "stream",
     "text": [
      "{'Mystery', 'Drama', 'Sci-Fi', 'Horror', 'Film-Noir', 'War', 'Musical', 'Adventure', 'Thriller', 'Documentary', 'Children', 'Crime', 'Romance', 'Fantasy', '(no genres listed)', 'Western', 'Action', 'Animation', 'Comedy'}\n"
     ]
    }
   ],
   "source": [
    "print(set(data_new_column))"
   ]
  },
  {
   "cell_type": "code",
   "execution_count": 13,
   "metadata": {},
   "outputs": [
    {
     "data": {
      "text/plain": [
       "19"
      ]
     },
     "execution_count": 13,
     "metadata": {},
     "output_type": "execute_result"
    }
   ],
   "source": [
    "len(set(data_new_column)) # total 18 genres"
   ]
  },
  {
   "cell_type": "code",
   "execution_count": 14,
   "metadata": {},
   "outputs": [
    {
     "data": {
      "text/plain": [
       "<Figure size 640x480 with 1 Axes>"
      ]
     },
     "metadata": {},
     "output_type": "display_data"
    }
   ],
   "source": [
    "from collections import Counter\n",
    "import numpy as np\n",
    "import matplotlib.pyplot as plt\n",
    "\n",
    "word_list = data_new_column\n",
    "\n",
    "counts = Counter(word_list)\n",
    "\n",
    "labels, values = zip(*counts.items())\n",
    "\n",
    "# sort your values in descending order\n",
    "indSort = np.argsort(values)[::-1]\n",
    "\n",
    "# rearrange your data\n",
    "labels = np.array(labels)[indSort]\n",
    "values = np.array(values)[indSort]\n",
    "\n",
    "indexes = np.arange(len(labels))\n",
    "\n",
    "bar_width = 0.1\n",
    "plt.xticks(rotation=90)\n",
    "plt.bar(indexes, values)\n",
    "\n",
    "# add labels\n",
    "plt.xticks(indexes + bar_width, labels)\n",
    "plt.show()"
   ]
  },
  {
   "cell_type": "code",
   "execution_count": 15,
   "metadata": {},
   "outputs": [],
   "source": [
    "# appending 10 from each category\n",
    "new_data = []\n",
    "i = []\n",
    "for j in range(18):\n",
    "    i.append(0)\n",
    "for j in range(len(data)):\n",
    "    genres_split = data.iloc[j][\"genres\"].split('|')[0]\n",
    "    if genres_split == 'Comedy' and i[0] < 10:\n",
    "        data_to_append = [data.iloc[j]['movieId'], data.iloc[j]['imdbId'], data.iloc[j]['title'], data.iloc[j]['genres']]\n",
    "        new_data.append(data_to_append)        \n",
    "        i[0] += 1\n",
    "    elif genres_split == 'Drama' and i[1] < 10:\n",
    "        data_to_append = [data.iloc[j]['movieId'], data.iloc[j]['imdbId'], data.iloc[j]['title'], data.iloc[j]['genres']]\n",
    "        new_data.append(data_to_append)        \n",
    "        i[1] += 1\n",
    "    elif genres_split == 'Action' and i[2] < 10:\n",
    "        data_to_append = [data.iloc[j]['movieId'], data.iloc[j]['imdbId'], data.iloc[j]['title'], data.iloc[j]['genres']]\n",
    "        new_data.append(data_to_append)        \n",
    "        i[2] += 1\n",
    "    elif genres_split == 'Adventure' and i[3] < 10:\n",
    "        data_to_append = [data.iloc[j]['movieId'], data.iloc[j]['imdbId'], data.iloc[j]['title'], data.iloc[j]['genres']]\n",
    "        new_data.append(data_to_append)        \n",
    "        i[3] += 1\n",
    "    elif genres_split == 'Crime' and i[4] < 10:\n",
    "        data_to_append = [data.iloc[j]['movieId'], data.iloc[j]['imdbId'], data.iloc[j]['title'], data.iloc[j]['genres']]\n",
    "        new_data.append(data_to_append)        \n",
    "        i[4] += 1\n",
    "    elif genres_split == 'Horror' and i[5] < 10:\n",
    "        data_to_append = [data.iloc[j]['movieId'], data.iloc[j]['imdbId'], data.iloc[j]['title'], data.iloc[j]['genres']]\n",
    "        new_data.append(data_to_append)        \n",
    "        i[5] += 1\n",
    "    elif genres_split == 'Documentary' and i[6] < 10:\n",
    "        data_to_append = [data.iloc[j]['movieId'], data.iloc[j]['imdbId'], data.iloc[j]['title'], data.iloc[j]['genres']]\n",
    "        new_data.append(data_to_append)        \n",
    "        i[6] += 1\n",
    "    elif genres_split == 'Animation' and i[7] < 10:\n",
    "        data_to_append = [data.iloc[j]['movieId'], data.iloc[j]['imdbId'], data.iloc[j]['title'], data.iloc[j]['genres']]\n",
    "        new_data.append(data_to_append)        \n",
    "        i[7] += 1\n",
    "    elif genres_split == 'Children' and i[8] < 10:\n",
    "        data_to_append = [data.iloc[j]['movieId'], data.iloc[j]['imdbId'], data.iloc[j]['title'], data.iloc[j]['genres']]\n",
    "        new_data.append(data_to_append)        \n",
    "        i[8] += 1\n",
    "    elif genres_split == 'Thriller' and i[9] < 10:\n",
    "        data_to_append = [data.iloc[j]['movieId'], data.iloc[j]['imdbId'], data.iloc[j]['title'], data.iloc[j]['genres']]\n",
    "        new_data.append(data_to_append)        \n",
    "        i[9] += 1\n",
    "    elif genres_split == 'Sci-Fi' and i[10] < 10:\n",
    "        data_to_append = [data.iloc[j]['movieId'], data.iloc[j]['imdbId'], data.iloc[j]['title'], data.iloc[j]['genres']]\n",
    "        new_data.append(data_to_append)        \n",
    "        i[10] += 1\n",
    "    elif genres_split == 'Mystery' and i[11] < 10:\n",
    "        data_to_append = [data.iloc[j]['movieId'], data.iloc[j]['imdbId'], data.iloc[j]['title'], data.iloc[j]['genres']]\n",
    "        new_data.append(data_to_append)        \n",
    "        i[11] += 1\n",
    "    elif genres_split == 'Fantasy' and i[12] < 10:\n",
    "        data_to_append = [data.iloc[j]['movieId'], data.iloc[j]['imdbId'], data.iloc[j]['title'], data.iloc[j]['genres']]\n",
    "        new_data.append(data_to_append)        \n",
    "        i[12] += 1\n",
    "    elif genres_split == 'Romance' and i[13] < 10:\n",
    "        data_to_append = [data.iloc[j]['movieId'], data.iloc[j]['imdbId'], data.iloc[j]['title'], data.iloc[j]['genres']]\n",
    "        new_data.append(data_to_append)        \n",
    "        i[13] += 1\n",
    "    elif genres_split == 'Western' and i[14] < 10:\n",
    "        data_to_append = [data.iloc[j]['movieId'], data.iloc[j]['imdbId'], data.iloc[j]['title'], data.iloc[j]['genres']]\n",
    "        new_data.append(data_to_append)        \n",
    "        i[14] += 1\n",
    "    elif genres_split == 'Musical' and i[15] < 10:\n",
    "        data_to_append = [data.iloc[j]['movieId'], data.iloc[j]['imdbId'], data.iloc[j]['title'], data.iloc[j]['genres']]\n",
    "        new_data.append(data_to_append)        \n",
    "        i[15] += 1\n",
    "    elif genres_split == 'Film-Noir' and i[16] < 10:\n",
    "        data_to_append = [data.iloc[j]['movieId'], data.iloc[j]['imdbId'], data.iloc[j]['title'], data.iloc[j]['genres']]\n",
    "        new_data.append(data_to_append)        \n",
    "        i[16] += 1\n",
    "    elif genres_split == 'War' and i[17] < 10:\n",
    "        data_to_append = [data.iloc[j]['movieId'], data.iloc[j]['imdbId'], data.iloc[j]['title'], data.iloc[j]['genres']]\n",
    "        new_data.append(data_to_append)        \n",
    "        i[17] += 1\n",
    "    "
   ]
  },
  {
   "cell_type": "code",
   "execution_count": 16,
   "metadata": {},
   "outputs": [
    {
     "data": {
      "text/plain": [
       "[10, 10, 10, 10, 10, 10, 10, 10, 10, 10, 10, 10, 10, 10, 10, 10, 10, 4]"
      ]
     },
     "execution_count": 16,
     "metadata": {},
     "output_type": "execute_result"
    }
   ],
   "source": [
    "i"
   ]
  },
  {
   "cell_type": "code",
   "execution_count": 17,
   "metadata": {},
   "outputs": [
    {
     "data": {
      "text/plain": [
       "[[1,\n",
       "  114709,\n",
       "  'Toy Story (1995)',\n",
       "  'Adventure|Animation|Children|Comedy|Fantasy'],\n",
       " [2, 113497, 'Jumanji (1995)', 'Adventure|Children|Fantasy'],\n",
       " [3, 113228, 'Grumpier Old Men (1995)', 'Comedy|Romance'],\n",
       " [4, 114885, 'Waiting to Exhale (1995)', 'Comedy|Drama|Romance'],\n",
       " [5, 113041, 'Father of the Bride Part II (1995)', 'Comedy'],\n",
       " [6, 113277, 'Heat (1995)', 'Action|Crime|Thriller'],\n",
       " [7, 114319, 'Sabrina (1995)', 'Comedy|Romance'],\n",
       " [8, 112302, 'Tom and Huck (1995)', 'Adventure|Children'],\n",
       " [9, 114576, 'Sudden Death (1995)', 'Action'],\n",
       " [10, 113189, 'GoldenEye (1995)', 'Action|Adventure|Thriller'],\n",
       " [11, 112346, 'American President, The (1995)', 'Comedy|Drama|Romance'],\n",
       " [12, 112896, 'Dracula: Dead and Loving It (1995)', 'Comedy|Horror'],\n",
       " [13, 112453, 'Balto (1995)', 'Adventure|Animation|Children'],\n",
       " [14, 113987, 'Nixon (1995)', 'Drama'],\n",
       " [15, 112760, 'Cutthroat Island (1995)', 'Action|Adventure|Romance'],\n",
       " [16, 112641, 'Casino (1995)', 'Crime|Drama'],\n",
       " [17, 114388, 'Sense and Sensibility (1995)', 'Drama|Romance'],\n",
       " [18, 113101, 'Four Rooms (1995)', 'Comedy'],\n",
       " [19, 112281, 'Ace Ventura: When Nature Calls (1995)', 'Comedy'],\n",
       " [20, 113845, 'Money Train (1995)', 'Action|Comedy|Crime|Drama|Thriller'],\n",
       " [21, 113161, 'Get Shorty (1995)', 'Comedy|Crime|Thriller'],\n",
       " [22, 112722, 'Copycat (1995)', 'Crime|Drama|Horror|Mystery|Thriller'],\n",
       " [23, 112401, 'Assassins (1995)', 'Action|Crime|Thriller'],\n",
       " [24, 114168, 'Powder (1995)', 'Drama|Sci-Fi'],\n",
       " [25, 113627, 'Leaving Las Vegas (1995)', 'Drama|Romance'],\n",
       " [26, 114057, 'Othello (1995)', 'Drama'],\n",
       " [27, 114011, 'Now and Then (1995)', 'Children|Drama'],\n",
       " [28, 114117, 'Persuasion (1995)', 'Drama|Romance'],\n",
       " [29,\n",
       "  112682,\n",
       "  'City of Lost Children, The (Cité des enfants perdus, La) (1995)',\n",
       "  'Adventure|Drama|Fantasy|Mystery|Sci-Fi'],\n",
       " [30,\n",
       "  115012,\n",
       "  'Shanghai Triad (Yao a yao yao dao waipo qiao) (1995)',\n",
       "  'Crime|Drama'],\n",
       " [31, 112792, 'Dangerous Minds (1995)', 'Drama'],\n",
       " [32,\n",
       "  114746,\n",
       "  'Twelve Monkeys (a.k.a. 12 Monkeys) (1995)',\n",
       "  'Mystery|Sci-Fi|Thriller'],\n",
       " [34, 112431, 'Babe (1995)', 'Children|Drama'],\n",
       " [36, 112818, 'Dead Man Walking (1995)', 'Crime|Drama'],\n",
       " [38, 113442, 'It Takes Two (1995)', 'Children|Comedy'],\n",
       " [39, 112697, 'Clueless (1995)', 'Comedy|Romance'],\n",
       " [40, 112749, 'Cry, the Beloved Country (1995)', 'Drama'],\n",
       " [41, 114279, 'Richard III (1995)', 'Drama|War'],\n",
       " [42, 112819, 'Dead Presidents (1995)', 'Action|Crime|Drama'],\n",
       " [43, 114272, 'Restoration (1995)', 'Drama'],\n",
       " [44, 113855, 'Mortal Kombat (1995)', 'Action|Adventure|Fantasy'],\n",
       " [47, 114369, 'Seven (a.k.a. Se7en) (1995)', 'Mystery|Thriller'],\n",
       " [48, 114148, 'Pocahontas (1995)', 'Animation|Children|Drama|Musical|Romance'],\n",
       " [50, 114814, 'Usual Suspects, The (1995)', 'Crime|Mystery|Thriller'],\n",
       " [53, 110299, 'Lamerica (1994)', 'Adventure|Drama'],\n",
       " [54, 112499, 'Big Green, The (1995)', 'Children|Comedy'],\n",
       " [60,\n",
       "  113419,\n",
       "  'Indian in the Cupboard, The (1995)',\n",
       "  'Adventure|Children|Fantasy'],\n",
       " [66,\n",
       "  116839,\n",
       "  'Lawnmower Man 2: Beyond Cyberspace (1996)',\n",
       "  'Action|Sci-Fi|Thriller'],\n",
       " [70, 116367, 'From Dusk Till Dawn (1996)', 'Action|Comedy|Horror|Thriller'],\n",
       " [77, 113973, 'Nico Icon (1995)', 'Documentary'],\n",
       " [80, 112445, 'White Balloon, The (Badkonake sefid) (1995)', 'Children|Drama'],\n",
       " [81,\n",
       "  114660,\n",
       "  \"Things to Do in Denver When You're Dead (1995)\",\n",
       "  'Crime|Drama|Romance'],\n",
       " [87, 116151, 'Dunston Checks In (1996)', 'Children|Comedy'],\n",
       " [97, 113247, 'Hate (Haine, La) (1995)', 'Crime|Drama'],\n",
       " [99, 113283, 'Heidi Fleiss: Hollywood Madam (1995)', 'Documentary'],\n",
       " [101, 115734, 'Bottle Rocket (1996)', 'Adventure|Comedy|Crime|Romance'],\n",
       " [103, 118040, 'Unforgettable (1996)', 'Mystery|Sci-Fi|Thriller'],\n",
       " [107,\n",
       "  117110,\n",
       "  'Muppet Treasure Island (1996)',\n",
       "  'Adventure|Children|Comedy|Musical'],\n",
       " [108, 112646, 'Catwalk (1996)', 'Documentary'],\n",
       " [111, 75314, 'Taxi Driver (1976)', 'Crime|Drama|Thriller'],\n",
       " [116, 112373, 'Anne Frank Remembered (1995)', 'Documentary'],\n",
       " [117, 115033, \"Young Poisoner's Handbook, The (1995)\", 'Crime|Drama'],\n",
       " [126,\n",
       "  110647,\n",
       "  'NeverEnding Story III, The (1994)',\n",
       "  'Adventure|Children|Fantasy'],\n",
       " [128, 110217, \"Jupiter's Wife (1994)\", 'Documentary'],\n",
       " [132, 113451, 'Jade (1995)', 'Thriller'],\n",
       " [137, 113756, 'Man of the Year (1995)', 'Documentary'],\n",
       " [149, 109093, 'Amateur (1994)', 'Crime|Drama|Thriller'],\n",
       " [162, 109508, 'Crumb (1994)', 'Documentary'],\n",
       " [177, 113690, 'Lord of Illusions (1995)', 'Horror'],\n",
       " [188, 114194, 'Prophecy, The (1995)', 'Fantasy|Horror|Mystery'],\n",
       " [190, 114323, 'Safe (1995)', 'Thriller'],\n",
       " [196, 114508, 'Species (1995)', 'Horror|Sci-Fi'],\n",
       " [206, 114805, 'Unzipped (1995)', 'Documentary'],\n",
       " [210, 114938, 'Wild Bill (1995)', 'Western'],\n",
       " [220, 112643, 'Castle Freak (1995)', 'Horror'],\n",
       " [239, 113198, 'Goofy Movie, A (1995)', 'Animation|Children|Comedy|Romance'],\n",
       " [240, 113303, 'Hideaway (1995)', 'Thriller'],\n",
       " [241, 113089, 'Fluke (1995)', 'Children|Drama'],\n",
       " [243, 113199, 'Gordy (1995)', 'Children|Comedy|Fantasy'],\n",
       " [246, 110057, 'Hoop Dreams (1994)', 'Documentary'],\n",
       " [250, 110006, 'Heavyweights (Heavy Weights) (1995)', 'Children|Comedy'],\n",
       " [257, 113501, 'Just Cause (1995)', 'Mystery|Thriller'],\n",
       " [262, 113670, 'Little Princess, A (1995)', 'Children|Drama'],\n",
       " [311, 110965, 'Relative Fear (1994)', 'Horror|Thriller'],\n",
       " [313, 111333, 'Swan Princess, The (1994)', 'Animation|Children'],\n",
       " [320, 108260, 'Suture (1993)', 'Film-Noir|Thriller'],\n",
       " [328,\n",
       "  114608,\n",
       "  'Tales from the Crypt Presents: Demon Knight (1995)',\n",
       "  'Horror|Thriller'],\n",
       " [332, 114852, 'Village of the Damned (1995)', 'Horror|Sci-Fi'],\n",
       " [335, 114788, 'Underneath (1995)', 'Mystery|Thriller'],\n",
       " [363,\n",
       "  107472,\n",
       "  'Wonderful, Horrible Life of Leni Riefenstahl, The (Macht der Bilder: Leni Riefenstahl, Die) (1993)',\n",
       "  'Documentary'],\n",
       " [373, 105226, 'Red Rock West (1992)', 'Thriller'],\n",
       " [383, 111756, 'Wyatt Earp (1994)', 'Western'],\n",
       " [407, 113409, 'In the Mouth of Madness (1995)', 'Horror|Thriller'],\n",
       " [416, 109198, 'Bad Girls (1994)', 'Western'],\n",
       " [422, 109297, 'Blink (1994)', 'Thriller'],\n",
       " [426, 106452, 'Body Snatchers (1993)', 'Horror|Sci-Fi|Thriller'],\n",
       " [457, 106977, 'Fugitive, The (1993)', 'Thriller'],\n",
       " [490, 107497, 'Malice (1993)', 'Thriller'],\n",
       " [512, 111003, 'Puppet Masters, The (1994)', 'Horror|Sci-Fi'],\n",
       " [540, 108162, 'Sliver (1993)', 'Thriller'],\n",
       " [551,\n",
       "  107688,\n",
       "  'Nightmare Before Christmas, The (1993)',\n",
       "  'Animation|Children|Fantasy|Musical'],\n",
       " [594,\n",
       "  29583,\n",
       "  'Snow White and the Seven Dwarfs (1937)',\n",
       "  'Animation|Children|Drama|Fantasy|Musical'],\n",
       " [595,\n",
       "  101414,\n",
       "  'Beauty and the Beast (1991)',\n",
       "  'Animation|Children|Fantasy|Musical|Romance|IMAX'],\n",
       " [596, 32910, 'Pinocchio (1940)', 'Animation|Children|Fantasy|Musical'],\n",
       " [606, 112625, 'Candyman: Farewell to the Flesh (1995)', 'Fantasy|Horror'],\n",
       " [616, 65421, 'Aristocats, The (1970)', 'Animation|Children'],\n",
       " [638, 113448, 'Jack and Sarah (1995)', 'Romance'],\n",
       " [662, 116287, 'Fear (1996)', 'Thriller'],\n",
       " [695, 114736, 'True Crime (1996)', 'Mystery|Thriller'],\n",
       " [735, 109592, 'Cemetery Man (Dellamorte Dellamore) (1994)', 'Horror'],\n",
       " [741,\n",
       "  113568,\n",
       "  'Ghost in the Shell (Kôkaku kidôtai) (1995)',\n",
       "  'Animation|Sci-Fi'],\n",
       " [745,\n",
       "  112691,\n",
       "  'Wallace & Gromit: A Close Shave (1995)',\n",
       "  'Animation|Children|Comedy'],\n",
       " [880, 116654, 'Island of Dr. Moreau, The (1996)', 'Sci-Fi|Thriller'],\n",
       " [900, 43278, 'American in Paris, An (1951)', 'Musical|Romance'],\n",
       " [904, 47396, 'Rear Window (1954)', 'Mystery|Thriller'],\n",
       " [913, 33870, 'Maltese Falcon, The (1941)', 'Film-Noir|Mystery'],\n",
       " [918, 37059, 'Meet Me in St. Louis (1944)', 'Musical'],\n",
       " [930, 38787, 'Notorious (1946)', 'Film-Noir|Romance|Thriller'],\n",
       " [931, 38109, 'Spellbound (1945)', 'Mystery|Romance|Thriller'],\n",
       " [938, 51658, 'Gigi (1958)', 'Musical'],\n",
       " [963, 41509, 'Inspector General, The (1949)', 'Musical'],\n",
       " [976, 22879, 'Farewell to Arms, A (1932)', 'Romance|War'],\n",
       " [1035, 59742, 'Sound of Music, The (1965)', 'Musical|Romance'],\n",
       " [1055, 120107, 'Shadow Conspiracy (1997)', 'Thriller'],\n",
       " [1137, 116587, 'Hustler White (1996)', 'Romance'],\n",
       " [1199, 88846, 'Brazil (1985)', 'Fantasy|Sci-Fi'],\n",
       " [1212, 41959, 'Third Man, The (1949)', 'Film-Noir|Mystery|Thriller'],\n",
       " [1339,\n",
       "  103874,\n",
       "  \"Dracula (Bram Stoker's Dracula) (1992)\",\n",
       "  'Fantasy|Horror|Romance|Thriller'],\n",
       " [1398, 116621, 'In Love and War (1996)', 'Romance|War'],\n",
       " [1459, 118548, 'Absolute Power (1997)', 'Mystery|Thriller'],\n",
       " [1475, 116743, 'Kama Sutra: A Tale of Love (1996)', 'Romance'],\n",
       " [1477, 119572, 'Love Jones (1997)', 'Romance'],\n",
       " [1493, 116931, 'Love and Other Catastrophes (1996)', 'Romance'],\n",
       " [1514, 116295, 'Temptress Moon (Feng Yue) (1996)', 'Romance'],\n",
       " [1574, 119098, 'Fall (1997)', 'Romance'],\n",
       " [1658, 119535, 'Life Less Ordinary, A (1997)', 'Romance|Thriller'],\n",
       " [1779, 120184, 'Sphere (1998)', 'Sci-Fi|Thriller'],\n",
       " [1926, 19729, 'Broadway Melody, The (1929)', 'Musical'],\n",
       " [2066, 39689, 'Out of the Past (1947)', 'Film-Noir'],\n",
       " [2187, 42994, 'Stage Fright (1950)', 'Mystery|Romance|Thriller'],\n",
       " [2206, 34248, 'Suspicion (1941)', 'Film-Noir|Mystery|Thriller'],\n",
       " [2311, 86837, '2010: The Year We Make Contact (1984)', 'Sci-Fi'],\n",
       " [2327,\n",
       "  100740,\n",
       "  'Tales from the Darkside: The Movie (1990)',\n",
       "  'Fantasy|Horror|Thriller'],\n",
       " [2401, 89767, 'Pale Rider (1985)', 'Western'],\n",
       " [2526, 79550, 'Meteor (1979)', 'Sci-Fi'],\n",
       " [2661, 45920, 'It Came from Outer Space (1953)', 'Sci-Fi'],\n",
       " [2665, 49169, 'Earth vs. the Flying Saucers (1956)', 'Sci-Fi'],\n",
       " [2669, 53183, 'Pork Chop Hill (1959)', 'War'],\n",
       " [2670, 52151, 'Run Silent Run Deep (1958)', 'War'],\n",
       " [2698, 120554, 'Zone 39 (1997)', 'Sci-Fi'],\n",
       " [2877, 73812, 'Tommy (1975)', 'Musical'],\n",
       " [2896, 60095, 'Alvarez Kelly (1966)', 'Western'],\n",
       " [2921, 68699, 'High Plains Drifter (1973)', 'Western'],\n",
       " [2941, 52225, 'South Pacific (1958)', 'Musical|Romance|War'],\n",
       " [3037, 65988, 'Little Big Man (1970)', 'Western'],\n",
       " [3074, 68762, 'Jeremiah Johnson (1972)', 'Western'],\n",
       " [3081, 162661, 'Sleepy Hollow (1999)', 'Fantasy|Horror|Mystery|Romance'],\n",
       " [3315, 43618, 'Happy Go Lovely (1951)', 'Musical'],\n",
       " [3354, 183523, 'Mission to Mars (2000)', 'Sci-Fi'],\n",
       " [3355, 142688, 'Ninth Gate, The (1999)', 'Fantasy|Horror|Mystery|Thriller'],\n",
       " [3474, 117468, 'Retroactive (1997)', 'Sci-Fi|Thriller'],\n",
       " [3604, 56048, 'Gypsy (1962)', 'Musical'],\n",
       " [3706, 92563, 'Angel Heart (1987)', 'Film-Noir|Horror|Mystery|Thriller'],\n",
       " [3806, 64615, \"Mackenna's Gold (1969)\", 'Western'],\n",
       " [3937, 88024, 'Runaway (1984)', 'Sci-Fi|Thriller'],\n",
       " [4105, 83907, 'Evil Dead, The (1981)', 'Fantasy|Horror|Thriller'],\n",
       " [4129, 93467, 'Made in Heaven (1987)', 'Fantasy|Romance'],\n",
       " [4329, 53221, 'Rio Bravo (1959)', 'Western'],\n",
       " [4426, 48261, 'Kiss Me Deadly (1955)', 'Film-Noir'],\n",
       " [4496, 94933, 'D.O.A. (1988)', 'Film-Noir|Mystery|Thriller'],\n",
       " [4927, 76299, 'Last Wave, The (1977)', 'Fantasy|Mystery|Thriller'],\n",
       " [6434, 37954, 'Objective, Burma! (1945)', 'War'],\n",
       " [7335, 46187, 'Pickup on South Street (1953)', 'Film-Noir'],\n",
       " [60389, 870211, 'Battle for Haditha (2007)', 'War']]"
      ]
     },
     "execution_count": 17,
     "metadata": {},
     "output_type": "execute_result"
    }
   ],
   "source": [
    "new_data"
   ]
  },
  {
   "cell_type": "code",
   "execution_count": 18,
   "metadata": {},
   "outputs": [],
   "source": [
    "data_new_column = []\n",
    "for i in range(len(new_data)):\n",
    "    genres_split = new_data[i][3].split('|')[0]\n",
    "    data_new_column.append(genres_split)   "
   ]
  },
  {
   "cell_type": "code",
   "execution_count": 19,
   "metadata": {},
   "outputs": [
    {
     "data": {
      "image/png": "[encoded data removed]",
      "text/plain": [
       "<Figure size 432x288 with 1 Axes>"
      ]
     },
     "metadata": {
      "needs_background": "light"
     },
     "output_type": "display_data"
    }
   ],
   "source": [
    "from collections import Counter\n",
    "import numpy as np\n",
    "import matplotlib.pyplot as plt\n",
    "\n",
    "word_list = data_new_column\n",
    "\n",
    "counts = Counter(word_list)\n",
    "\n",
    "labels, values = zip(*counts.items())\n",
    "\n",
    "# sort your values in descending order\n",
    "indSort = np.argsort(values)[::-1]\n",
    "\n",
    "# rearrange your data\n",
    "labels = np.array(labels)[indSort]\n",
    "values = np.array(values)[indSort]\n",
    "\n",
    "indexes = np.arange(len(labels))\n",
    "\n",
    "bar_width = 0.1\n",
    "plt.xticks(rotation=90)\n",
    "plt.bar(indexes, values)\n",
    "\n",
    "# add labels\n",
    "plt.xticks(indexes + bar_width, labels)\n",
    "plt.show()"
   ]
  },
  {
   "cell_type": "code",
   "execution_count": 20,
   "metadata": {},
   "outputs": [
    {
     "data": {
      "text/plain": [
       "174"
      ]
     },
     "execution_count": 20,
     "metadata": {},
     "output_type": "execute_result"
    }
   ],
   "source": [
    "len(new_data)"
   ]
  },
  {
   "cell_type": "code",
   "execution_count": 21,
   "metadata": {},
   "outputs": [],
   "source": [
    "df = pd.DataFrame(new_data)"
   ]
  },
  {
   "cell_type": "code",
   "execution_count": 22,
   "metadata": {},
   "outputs": [],
   "source": [
    "df.to_csv(\"final_data_to_scrap.csv\")"
   ]
  },
  {
   "cell_type": "code",
   "execution_count": null,
   "metadata": {},
   "outputs": [],
   "source": []
  }
 ],
 "metadata": {
  "kernelspec": {
   "display_name": "Python 3",
   "language": "python",
   "name": "python3"
  },
  "language_info": {
   "codemirror_mode": {
    "name": "ipython",
    "version": 3
   },
   "file_extension": ".py",
   "mimetype": "text/x-python",
   "name": "python",
   "nbconvert_exporter": "python",
   "pygments_lexer": "ipython3",
   "version": "3.6.8"
  }
 },
 "nbformat": 4,
 "nbformat_minor": 2
}
